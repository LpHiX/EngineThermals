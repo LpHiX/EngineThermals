{
  "nbformat": 4,
  "nbformat_minor": 0,
  "metadata": {
    "colab": {
      "provenance": [],
      "authorship_tag": "ABX9TyMPE3uNnDqCAe9kf6AL0ePT",
      "include_colab_link": true
    },
    "kernelspec": {
      "name": "python3",
      "display_name": "Python 3"
    },
    "language_info": {
      "name": "python"
    }
  },
  "cells": [
    {
      "cell_type": "markdown",
      "metadata": {
        "id": "view-in-github",
        "colab_type": "text"
      },
      "source": [
        "<a href=\"https://colab.research.google.com/github/LpHiX/EngineThermals/blob/main/enginesizer.ipynb\" target=\"_parent\"><img src=\"https://colab.research.google.com/assets/colab-badge.svg\" alt=\"Open In Colab\"/></a>"
      ]
    },
    {
      "cell_type": "markdown",
      "source": [
        "# Setup (Only run if RocketCEA hasn't been built)"
      ],
      "metadata": {
        "id": "675HINBMzMMZ"
      }
    },
    {
      "cell_type": "code",
      "source": [
        "!pip install RocketCEA"
      ],
      "metadata": {
        "colab": {
          "base_uri": "https://localhost:8080/"
        },
        "id": "ReYIJVHu0ZSK",
        "outputId": "af7492c3-d8e2-4bcf-81cb-c0399428487a"
      },
      "execution_count": null,
      "outputs": [
        {
          "output_type": "stream",
          "name": "stdout",
          "text": [
            "Collecting RocketCEA\n",
            "  Downloading rocketcea-1.1.34.tar.gz (38.5 MB)\n",
            "\u001b[2K     \u001b[90m━━━━━━━━━━━━━━━━━━━━━━━━━━━━━━━━━━━━━━━━\u001b[0m \u001b[32m38.5/38.5 MB\u001b[0m \u001b[31m26.5 MB/s\u001b[0m eta \u001b[36m0:00:00\u001b[0m\n",
            "\u001b[?25h  Preparing metadata (setup.py) ... \u001b[?25l\u001b[?25hdone\n",
            "Requirement already satisfied: future in /usr/local/lib/python3.10/dist-packages (from RocketCEA) (0.18.3)\n",
            "Requirement already satisfied: numpy in /usr/local/lib/python3.10/dist-packages (from RocketCEA) (1.23.5)\n",
            "Requirement already satisfied: scipy in /usr/local/lib/python3.10/dist-packages (from RocketCEA) (1.11.3)\n",
            "Requirement already satisfied: matplotlib in /usr/local/lib/python3.10/dist-packages (from RocketCEA) (3.7.1)\n",
            "Requirement already satisfied: contourpy>=1.0.1 in /usr/local/lib/python3.10/dist-packages (from matplotlib->RocketCEA) (1.1.1)\n",
            "Requirement already satisfied: cycler>=0.10 in /usr/local/lib/python3.10/dist-packages (from matplotlib->RocketCEA) (0.12.1)\n",
            "Requirement already satisfied: fonttools>=4.22.0 in /usr/local/lib/python3.10/dist-packages (from matplotlib->RocketCEA) (4.43.1)\n",
            "Requirement already satisfied: kiwisolver>=1.0.1 in /usr/local/lib/python3.10/dist-packages (from matplotlib->RocketCEA) (1.4.5)\n",
            "Requirement already satisfied: packaging>=20.0 in /usr/local/lib/python3.10/dist-packages (from matplotlib->RocketCEA) (23.2)\n",
            "Requirement already satisfied: pillow>=6.2.0 in /usr/local/lib/python3.10/dist-packages (from matplotlib->RocketCEA) (9.4.0)\n",
            "Requirement already satisfied: pyparsing>=2.3.1 in /usr/local/lib/python3.10/dist-packages (from matplotlib->RocketCEA) (3.1.1)\n",
            "Requirement already satisfied: python-dateutil>=2.7 in /usr/local/lib/python3.10/dist-packages (from matplotlib->RocketCEA) (2.8.2)\n",
            "Requirement already satisfied: six>=1.5 in /usr/local/lib/python3.10/dist-packages (from python-dateutil>=2.7->matplotlib->RocketCEA) (1.16.0)\n",
            "Building wheels for collected packages: RocketCEA\n",
            "  Building wheel for RocketCEA (setup.py) ... \u001b[?25l\u001b[?25hdone\n",
            "  Created wheel for RocketCEA: filename=rocketcea-1.1.34-cp310-cp310-linux_x86_64.whl size=5294377 sha256=3e779a3f1d23fe01095eb528dda08a83ea0b20b7465ce4da1540aeae213fbe69\n",
            "  Stored in directory: /root/.cache/pip/wheels/0a/c6/78/09f751e0e6185bac68940ca41d7ce5038ccd506209a8339781\n",
            "Successfully built RocketCEA\n",
            "Installing collected packages: RocketCEA\n",
            "Successfully installed RocketCEA-1.1.34\n"
          ]
        }
      ]
    },
    {
      "cell_type": "markdown",
      "source": [
        "To verify that this works, the following code will be ran."
      ],
      "metadata": {
        "id": "tXq6yFYY0eT-"
      }
    },
    {
      "cell_type": "code",
      "source": [
        "from rocketcea.cea_obj import CEA_Obj\n",
        "C = CEA_Obj( oxName='LOX', fuelName='LH2')\n",
        "for mr in range(2,9):\n",
        "    print(mr, C.get_Isp(Pc=100.0, MR=mr, eps=40.0) )"
      ],
      "metadata": {
        "colab": {
          "base_uri": "https://localhost:8080/"
        },
        "id": "Ad9SfV-K0WNq",
        "outputId": "b3cc55d5-4988-4a27-f3b7-7e52f214d721"
      },
      "execution_count": null,
      "outputs": [
        {
          "output_type": "stream",
          "name": "stdout",
          "text": [
            "2 424.3597085736007\n",
            "3 445.44434236555196\n",
            "4 453.1327195192172\n",
            "5 453.240429182712\n",
            "6 448.1902329983734\n",
            "7 438.7434004290928\n",
            "8 424.6998266323161\n"
          ]
        }
      ]
    },
    {
      "cell_type": "markdown",
      "source": [
        "# Classes to generate rocket engine and contour"
      ],
      "metadata": {
        "id": "m0qKtCQTzWj6"
      }
    },
    {
      "cell_type": "markdown",
      "source": [
        "Firstly, a CEA wrapper"
      ],
      "metadata": {
        "id": "NdV2JpAxL8YV"
      }
    },
    {
      "cell_type": "code",
      "source": [
        "from rocketcea.cea_obj_w_units import CEA_Obj\n",
        "import numpy as np\n",
        "import rocketcea.cea_obj\n",
        "class RocketEngine:\n",
        "  def __init__(self, oxName, fuelName, thrust, Pc, Pe, MR):\n",
        "    self.oxName = oxName\n",
        "    self.fuelName = fuelName\n",
        "    self.Pc = Pc\n",
        "    self.Pe = Pe\n",
        "    self.MR = MR\n",
        "\n",
        "    self.cea = CEA_Obj(oxName = oxName,\n",
        "                       fuelName = fuelName,\n",
        "                       isp_units='sec',\n",
        "                       cstar_units = 'm/s',\n",
        "                       pressure_units='Bar',\n",
        "                       temperature_units='K',\n",
        "                       sonic_velocity_units='m/s',\n",
        "                       enthalpy_units='J/g',\n",
        "                       density_units='kg/m^3',\n",
        "                       specific_heat_units='J/kg-K',\n",
        "                       viscosity_units='millipoise',      # wtf\n",
        "                       thermal_cond_units='mcal/cm-K-s',  # wtf\n",
        "                       fac_CR=None,\n",
        "                       make_debug_prints=False)\n",
        "\n",
        "    self.eps = self.cea.get_eps_at_PcOvPe(Pc=Pc, MR=MR, PcOvPe = Pc/Pe)\n",
        "    self.Tc, self.Tt, self.Te = self.cea.get_Temperatures(Pc=Pc, MR=MR, eps=self.eps)\n",
        "    self.Pt = self.Pc / self.cea.get_Throat_PcOvPe(Pc=Pc, MR=MR)\n",
        "    self.ve = self.cea.get_SonicVelocities(Pc=Pc,MR=MR,eps=self.eps)[2] * self.cea.get_MachNumber(Pc=Pc, MR=MR, eps=self.eps)\n",
        "    self.mdot = thrust / self.ve\n",
        "\n",
        "    self.mwt, self.gt = self.cea.get_Throat_MolWt_gamma(Pc=Pc, MR=MR, eps=self.eps)\n",
        "    self.mwe, self.ge = self.cea.get_exit_MolWt_gamma(Pc=Pc, MR=MR, eps=self.eps)\n",
        "    self.Rt = 8314.46 / self.mwt\n",
        "    self.Re = 8314.46 / self.mwe\n",
        "\n",
        "    self.Cp_c, self.Cp_t, self.Cp_e = self.cea.get_HeatCapacities(Pc=Pc, MR=MR, eps=self.eps)\n",
        "    self.rho_c = self.cea.get_Chamber_Density(Pc=Pc, MR=MR, eps=self.eps)\n",
        "\n",
        "    _, self.visc, _, self.pr = self.cea.get_Chamber_Transport(Pc=Pc, MR=MR, eps=self.eps)\n",
        "    self.cstar = self.cea.get_Cstar(Pc=Pc, MR=MR)\n",
        "    self.isp = self.cea.get_Cstar(Pc=Pc,MR=MR)\n",
        "\n",
        "    self.At = self.mdot / (self.Pt * 1e5) * np.sqrt(self.Rt * self.Tt / self.gt)\n",
        "    self.Ae = self.At * self.eps\n",
        "\n",
        "  def debug_print(self):\n",
        "      debugObj = rocketcea.cea_obj.CEA_Obj(oxName=self.oxName, fuelName=self.fuelName)\n",
        "      print(debugObj.get_full_cea_output(Pc=self.Pc, MR=self.MR, eps=self.eps, short_output=1, pc_units=\"bar\"))"
      ],
      "metadata": {
        "id": "CaQI_DUi0upS"
      },
      "execution_count": 87,
      "outputs": []
    },
    {
      "cell_type": "markdown",
      "source": [
        "Then geometry is created following RPA convention as shown:\n",
        "\n",
        "![Screenshot 2023-10-23 071624.png](data:image/png;base64,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)"
      ],
      "metadata": {
        "id": "TcwXL1PCLrdK"
      }
    },
    {
      "cell_type": "code",
      "source": [
        "def lininterp(x, old_min, old_max, new_min, new_max):\n",
        "  return (x - old_min)/(old_max - old_min) * (new_max - new_min) + new_min\n",
        "\n",
        "def pointinterp(x, start, end):\n",
        "  return np.array([start[0] + x * (end[0] - start[0]), start[1] + x * (end[1] - start[1])])\n",
        "\n",
        "def create_contour(engine, chamber_length, radius_cylinder): #chamber_length = Lc\n",
        "  rt = np.sqrt(engine.At / np.pi)\n",
        "  re = np.sqrt(engine.Ae / np.pi)\n",
        "  Le = 0.8 * rt * (np.sqrt(engine.eps) - 1) / np.tan(15 * np.pi / 180)\n",
        "  total_length = chamber_length + Le\n",
        "\n",
        "  Tn = 28 * np.pi / 180\n",
        "  Te = 10 * np.pi / 180\n",
        "\n",
        "  # Cyl (For my laziness assume R2 = 0)\n",
        "  b = 60 * np.pi / 180\n",
        "  x_conv = chamber_length + 1.5 * rt * np.cos(-b - np.pi / 2)\n",
        "  y_conv = 2.5 * rt + 1.5 * rt * np.sin(-b - np.pi / 2)\n",
        "\n",
        "  x_slope = (radius_cylinder - y_conv) / np.tan(b)\n",
        "\n",
        "  contour_cyl = np.array([\n",
        "      [0, radius_cylinder],\n",
        "      [x_conv - x_slope,radius_cylinder],\n",
        "      [x_conv,y_conv]])\n",
        "\n",
        "  # Converge -> Throat\n",
        "\n",
        "  contour_converge_throat = np.zeros((99,2))\n",
        "  for i in range(1, 100):\n",
        "    t = lininterp(i, 0, 99, -b - np.pi / 2, - np.pi / 2)\n",
        "    contour_converge_throat[i - 1] = np.array([chamber_length + 1.5 * rt * np.cos(t), 2.5 * rt + 1.5 * rt * np.sin(t)])\n",
        "\n",
        "  # Throat -> Parabola\n",
        "\n",
        "  contour_throat_parabola = np.zeros((99,2))\n",
        "  for i in range(1, 100):\n",
        "    t = lininterp(i, 0, 99, 0 - np.pi / 2, Tn - np.pi / 2)\n",
        "    contour_throat_parabola[i - 1] = np.array([chamber_length + 0.382 * rt * np.cos(t), 1.382 * rt + 0.382 * rt * np.sin(t)])\n",
        "\n",
        "  # Parabola\n",
        "  parabola_p0 = contour_throat_parabola[-1]\n",
        "  parabola_p2 = np.array([total_length, re])\n",
        "  parabola_m1 = np.tan(Tn)\n",
        "  parabola_m2 = np.tan(Te)\n",
        "  parabola_c1 = parabola_p0[1] - parabola_m1 * parabola_p0[0]\n",
        "  parabola_c2 = parabola_p2[1] - parabola_m2 * parabola_p2[0]\n",
        "  parabola_p1 = np.array([(parabola_c2 - parabola_c1)/(parabola_m1 - parabola_m2),(parabola_m1 * parabola_c2 - parabola_m2 * parabola_c1)/(parabola_m1 - parabola_m2)])\n",
        "\n",
        "  contour_parabola = np.zeros((99,2))\n",
        "  for i in range(1, 100):\n",
        "    t = lininterp(i, 0, 99, 0, 1)\n",
        "    parabola_linear0 = pointinterp(t, parabola_p0, parabola_p1)\n",
        "    parabola_linear1 = pointinterp(t, parabola_p1, parabola_p2)\n",
        "    contour_parabola[i - 1] = pointinterp(t, parabola_linear0, parabola_linear1)\n",
        "\n",
        "  contour = np.concatenate([contour_cyl, contour_converge_throat, contour_throat_parabola, contour_parabola])\n",
        "  final_contour = np.zeros([1000, 2])\n",
        "  final_contour[:,0] = np.linspace(contour[:,0].min(), contour[:,0].max(), num=1000)  # Adjust the number of points as needed\n",
        "  final_contour[:,1] = np.interp(final_contour[:,0], contour[:,0], contour[:,1])\n",
        "\n",
        "  return final_contour"
      ],
      "metadata": {
        "id": "lr05cmJ2L57b"
      },
      "execution_count": 83,
      "outputs": []
    },
    {
      "cell_type": "code",
      "source": [
        "from scipy.optimize import root_scalar\n",
        "\n",
        "class Thermals:\n",
        "  def __init__(self, engine, contour, transport_case):\n",
        "    self.engine = engine\n",
        "    self.contour = contour\n",
        "\n",
        "    x_choke = np.argmin(contour[:,1])\n",
        "\n",
        "    #Finding mach number, https://kyleniemeyer.github.io/gas-dynamics-notes/compressible-flows/isentropic.html#equation-eq-area-ratio-loss\n",
        "    def area_function(mach, area, gamma):\n",
        "\n",
        "      area_ratio = area / engine.At\n",
        "      if mach == 0:\n",
        "        mach = 0.000001\n",
        "      return (\n",
        "          area_ratio - (\n",
        "              (1.0/mach) * ((1 + 0.5*(gamma-1)*mach*mach) /\n",
        "              ((gamma + 1)/2))**((gamma+1) / (2*(gamma-1)))\n",
        "              )\n",
        "          )\n",
        "    self.sonic_number = contour.copy()\n",
        "    self.temperature = contour.copy()\n",
        "    self.hg = contour.copy()\n",
        "\n",
        "    Cv = engine.Cp_c - engine.Rt\n",
        "\n",
        "    for i in range(0,contour.shape[0]):\n",
        "\n",
        "\n",
        "      #Transport case:\n",
        "      # 0 - throat transports until throat, then linearly interpolate to exit at exit\n",
        "      # 1 - throat transports\n",
        "      # 2 - exit transports\n",
        "      if transport_case == 0:\n",
        "        if i < x_choke:\n",
        "          gamma = engine.gt\n",
        "        else:\n",
        "          gamma = lininterp(i, x_choke, contour.shape[0], engine.gt, engine.ge)\n",
        "      elif transport_case == 1:\n",
        "        gamma = engine.gt\n",
        "      elif transport_case == 2:\n",
        "        gamma = engine.ge\n",
        "\n",
        "      area = np.pi * contour[i,1] * contour[i,1]\n",
        "      if i == x_choke:\n",
        "        self.sonic_number[i,1] = 1\n",
        "      elif i < x_choke:\n",
        "        self.sonic_number[i,1] = root_scalar(area_function, args=(area, gamma), bracket=[0, 1]).root\n",
        "      else:\n",
        "        self.sonic_number[i,1] = root_scalar(area_function, args=(area, gamma), bracket=[1, 10]).root\n",
        "\n",
        "      self.temperature[i] = engine.Tc - engine.mdot * engine.mdot / (2 * Cv * engine.rho_c * engine.rho_c * area * area) * (1 + 0.5 * (engine.gt - 1) * self.sonic_number[i,1] * self.sonic_number[i,1])**(2 / (engine.gt - 1))\n",
        "      correction_factor = 1 / ((0.5 * self.temperature[i] / engine.Tc * (1 + 0.5 * (gamma - 1) * self.sonic_number[i,1]**2)+0.5)**0.68 * (1 + 0.5 * (gamma - 1) * self.sonic_number[i,1]**2)**0.12)\n",
        "\n",
        "      #Barts variables\n",
        "      b_Dt = np.sqrt(4 * engine.At / np.pi)\n",
        "      b_visc = engine.visc\n",
        "      b_Cp = engine.Cp_c\n",
        "      b_Pr = engine.pr\n",
        "      b_Pc = engine.Pc\n",
        "      b_cstar = engine.cstar\n",
        "\n",
        "      rt = np.sqrt(engine.At / np.pi)\n",
        "      b_r = (1.5 * rt + 0.382 * rt) * 0.5\n",
        "      b_area_ratio = engine.At / area\n",
        "\n",
        "\n",
        "      self.hg[i] = 0.026 / b_Dt**0.2 * (b_visc**0.2 * b_Cp) / b_Pr**0.6 * (b_Pc * 9.81 / b_cstar)**0.8 * (b_Dt / b_r)**0.1 * (b_area_ratio)**0.9 * correction_factor\n"
      ],
      "metadata": {
        "id": "K-HSXGGQIQkp"
      },
      "execution_count": 91,
      "outputs": []
    },
    {
      "cell_type": "markdown",
      "source": [
        "# Usage"
      ],
      "metadata": {
        "id": "emZHLgvw3Yca"
      }
    },
    {
      "cell_type": "code",
      "source": [
        "thanos = RocketEngine(\n",
        "    oxName = \"N2O\",\n",
        "    fuelName = \"Methanol\",\n",
        "    thrust = 3000,\n",
        "    Pc = 20,\n",
        "    Pe = 0.85,\n",
        "    MR = 3.5)\n",
        "thanos.debug_print()"
      ],
      "metadata": {
        "id": "NUIf9iw7L4cM",
        "colab": {
          "base_uri": "https://localhost:8080/"
        },
        "outputId": "ca3fed78-2d26-4ad1-af0b-173a80e7db81"
      },
      "execution_count": 88,
      "outputs": [
        {
          "output_type": "stream",
          "name": "stdout",
          "text": [
            "\n",
            " *******************************************************************************\n",
            "\n",
            "         NASA-GLENN CHEMICAL EQUILIBRIUM PROGRAM CEA, OCTOBER 18, 2002\n",
            "                   BY  BONNIE MCBRIDE AND SANFORD GORDON\n",
            "      REFS: NASA RP-1311, PART I, 1994 AND NASA RP-1311, PART II, 1996\n",
            "\n",
            " *******************************************************************************\n",
            "\n",
            "\n",
            "\n",
            " reac\n",
            "  fuel CH3OH(L)   C 1 H 4 O 1\n",
            "  h,cal=-57040.0      t(k)=298.15       wt%=100.\n",
            "  oxid NitrousOxide  N 2.0 O 1.0  wt%=100.00\n",
            "  h,cal= 19467.0 t(k)=298.15\n",
            "  \n",
            " prob case=RocketCEA,\n",
            "  rocket equilibrium   p,bar=20.000000,  supar=4.143284,\n",
            "  o/f=3.500000,\n",
            "  \n",
            "  \n",
            " output calories  short  transport\n",
            " end\n",
            "\n",
            "\n",
            "\n",
            "\n",
            "\n",
            "\n",
            "              THEORETICAL ROCKET PERFORMANCE ASSUMING EQUILIBRIUM\n",
            "\n",
            "           COMPOSITION DURING EXPANSION FROM INFINITE AREA COMBUSTOR\n",
            "\n",
            " Pinj =   290.1 PSIA\n",
            " CASE = RocketCEA,     \n",
            "\n",
            "             REACTANT                    WT FRACTION      ENERGY      TEMP\n",
            "                                          (SEE NOTE)      CAL/MOL       K  \n",
            " FUEL        CH3OH(L)                     1.0000000    -57040.000    298.150\n",
            " OXIDANT     NitrousOxide                 1.0000000     19467.000    298.150\n",
            "\n",
            " O/F=    3.50000  %FUEL= 22.222222  R,EQ.RATIO= 1.127382  PHI,EQ.RATIO= 1.177374\n",
            "\n",
            "                 CHAMBER   THROAT     EXIT\n",
            " Pinf/P            1.0000   1.7385   23.530\n",
            " P, ATM            19.738   11.354  0.83887\n",
            " T, K             3023.46  2848.09  1950.59\n",
            " RHO, G/CC       2.0054-3 1.2366-3 1.3617-4\n",
            " H, CAL/G         -51.580  -178.93  -663.35\n",
            " U, CAL/G         -289.94  -401.28  -812.54\n",
            " G, CAL/G        -7636.49 -7323.91 -5556.78\n",
            " S, CAL/(G)(K)     2.5087   2.5087   2.5087\n",
            "\n",
            " M, (1/n)          25.206   25.454   25.983\n",
            " (dLV/dLP)t      -1.01441 -1.01062 -1.00013\n",
            " (dLV/dLT)p        1.3125   1.2460   1.0042\n",
            " Cp, CAL/(G)(K)    0.9745   0.8804   0.4196\n",
            " GAMMAs            1.1428   1.1455   1.2250\n",
            " SON VEL,M/SEC     1067.6   1032.3    874.4\n",
            " MACH NUMBER        0.000    1.000    2.587\n",
            "\n",
            " TRANSPORT PROPERTIES (GASES ONLY)\n",
            "   CONDUCTIVITY IN UNITS OF MILLICALORIES/(CM)(K)(SEC)\n",
            "\n",
            " VISC,MILLIPOISE  0.96322  0.92603  0.71539\n",
            "\n",
            "  WITH EQUILIBRIUM REACTIONS\n",
            "\n",
            " Cp, CAL/(G)(K)    0.9745   0.8804   0.4196\n",
            " CONDUCTIVITY      1.7309   1.4392   0.4348\n",
            " PRANDTL NUMBER    0.5423   0.5665   0.6905\n",
            "\n",
            "  WITH FROZEN REACTIONS\n",
            "\n",
            " Cp, CAL/(G)(K)    0.4293   0.4269   0.4056\n",
            " CONDUCTIVITY      0.6085   0.5766   0.4067\n",
            " PRANDTL NUMBER    0.6795   0.6856   0.7134\n",
            "\n",
            " PERFORMANCE PARAMETERS\n",
            "\n",
            " Ae/At                      1.0000   4.1433\n",
            " CSTAR, FT/SEC              5140.1   5140.1\n",
            " CF                         0.6589   1.4442\n",
            " Ivac,LB-SEC/LB              197.2    258.9\n",
            " Isp, LB-SEC/LB              105.3    230.7\n",
            "\n",
            "\n",
            " MOLE FRACTIONS\n",
            "\n",
            " *CO              0.08045  0.07288  0.05148\n",
            " *CO2             0.09436  0.10366  0.12872\n",
            " *H               0.00704  0.00502  0.00022\n",
            " HO2              0.00002  0.00001  0.00000\n",
            " *H2              0.03439  0.03097  0.03002\n",
            " H2O              0.30044  0.31153  0.33015\n",
            " *NO              0.00759  0.00500  0.00003\n",
            " *N2              0.44164  0.44732  0.45914\n",
            " *O               0.00259  0.00149  0.00000\n",
            " *OH              0.02253  0.01612  0.00025\n",
            " *O2              0.00894  0.00600  0.00001\n",
            "\n",
            "  * THERMODYNAMIC PROPERTIES FITTED TO 20000.K\n",
            "\n",
            " NOTE. WEIGHT FRACTION OF FUEL IN TOTAL FUELS AND OF OXIDANT IN TOTAL OXIDANTS\n",
            "\n",
            "\n",
            "\n",
            "\n"
          ]
        }
      ]
    },
    {
      "cell_type": "code",
      "source": [
        "from matplotlib import pyplot as plt\n",
        "thanos_contour = create_contour(thanos, 0.1, 0.065)\n",
        "thanos_thermals = Thermals(thanos, thanos_contour, 0)\n",
        "\n",
        "fig, ax1 = plt.subplots()\n",
        "\n",
        "color = 'tab:red'\n",
        "ax1.set_xlabel('position (m)')\n",
        "ax1.set_ylabel('radius (m)', color=color)\n",
        "ax1.plot(thanos_contour[:,0], thanos_contour[:,1], color=color)\n",
        "ax1.tick_params(axis='y', labelcolor=color)\n",
        "ax1.set_aspect('equal', adjustable='box')\n",
        "ax1.set_ylim(0, 0.14)\n",
        "\n",
        "ax2 = ax1.twinx()  # instantiate a second axes that shares the same x-axis\n",
        "color = 'tab:blue'\n",
        "ax2.set_ylabel('temperature (K)', color=color)  # we already handled the x-label with ax1\n",
        "ax2.plot(thanos_contour[:,0], thanos_thermals.temperature[:,0], color=color)\n",
        "ax2.tick_params(axis='y', labelcolor=color)\n",
        "\n",
        "ax3 = ax1.twinx()  # instantiate a second axes that shares the same x-axis\n",
        "color = 'tab:orange'\n",
        "ax3.set_ylabel('hg', color=color)  # we already handled the x-label with ax1\n",
        "ax3.plot(thanos_contour[:,0], thanos_thermals.hg[:,0], color=color)\n",
        "ax3.tick_params(axis='y', labelcolor=color)\n",
        "\n",
        "\n",
        "#ax1.set_aspect('equal', adjustable='box')\n",
        "fig.tight_layout()  # otherwise the right y-label is slightly clipped\n",
        "plt.show()\n",
        "\n"
      ],
      "metadata": {
        "colab": {
          "base_uri": "https://localhost:8080/",
          "height": 487
        },
        "id": "K1G8U686vF1o",
        "outputId": "8aa61d74-f011-4462-84ee-82188df05dc7"
      },
      "execution_count": 95,
      "outputs": [
        {
          "output_type": "display_data",
          "data": {
            "text/plain": [
              "<Figure size 640x480 with 3 Axes>"
            ],
            "image/png": "[encoded data removed]"
          },
          "metadata": {}
        }
      ]
    },
    {
      "cell_type": "code",
      "source": [
        "thanos_thermals.temperature[-1,1]"
      ],
      "metadata": {
        "id": "cIahjyemUAGa"
      },
      "execution_count": null,
      "outputs": []
    },
    {
      "cell_type": "code",
      "source": [],
      "metadata": {
        "id": "7_TQhTS3Z2Qw"
      },
      "execution_count": null,
      "outputs": []
    }
  ]
}